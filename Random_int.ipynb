{
  "nbformat": 4,
  "nbformat_minor": 0,
  "metadata": {
    "colab": {
      "provenance": []
    },
    "kernelspec": {
      "name": "python3",
      "display_name": "Python 3"
    },
    "language_info": {
      "name": "python"
    }
  },
  "cells": [
    {
      "cell_type": "code",
      "execution_count": null,
      "metadata": {
        "colab": {
          "base_uri": "https://localhost:8080/"
        },
        "id": "uoIha2wocKHr",
        "outputId": "6d0e2ac0-7fd9-4182-d4d2-a87779f4cc56"
      },
      "outputs": [
        {
          "output_type": "stream",
          "name": "stdout",
          "text": [
            "97\n",
            "Введите число 97\n",
            "Угадал!\n"
          ]
        }
      ],
      "source": [
        "import random\n",
        "ran_num = random.randint(1,100)\n",
        "print(ran_num)\n",
        "\n",
        "number_int = int(input('Введите число '))\n",
        "\n",
        "while ran_num != number_int:\n",
        "  number_int = int(input('Не угадали! Введите число '))\n",
        "else:\n",
        "  print(\"Угадали!\")"
      ]
    }
  ]
}