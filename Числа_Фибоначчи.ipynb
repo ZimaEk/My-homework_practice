{
  "nbformat": 4,
  "nbformat_minor": 0,
  "metadata": {
    "colab": {
      "provenance": []
    },
    "kernelspec": {
      "name": "python3",
      "display_name": "Python 3"
    },
    "language_info": {
      "name": "python"
    }
  },
  "cells": [
    {
      "cell_type": "markdown",
      "source": [
        "# Числа Фибоначчи"
      ],
      "metadata": {
        "id": "Y6F7EbZZusuK"
      }
    },
    {
      "cell_type": "markdown",
      "source": [
        "Чи́сла Фибона́ччи (вариант написания — Фибона́чи) — элементы числовой последовательности в которой первые два числа равны 0 и 1, а каждое последующее число равно сумме двух предыдущих чисел.\n",
        "\n",
        "Пример: *0, 1, 1, 2, 3, 5, 8, 13, 21, 34, 55, 89, 144, 233, 377, 610, 987, 1597, 2584, 4181, 6765, 10946, 17711, …,*"
      ],
      "metadata": {
        "id": "45DTPDobuxex"
      }
    },
    {
      "cell_type": "code",
      "source": [
        "n = input(\"Номер элемента ряда Фибоначчи: \")"
      ],
      "metadata": {
        "colab": {
          "base_uri": "https://localhost:8080/"
        },
        "id": "ntrz5vAmu9EI",
        "outputId": "3cd866e5-ecd9-44ef-d784-f082c66e5707"
      },
      "execution_count": null,
      "outputs": [
        {
          "name": "stdout",
          "output_type": "stream",
          "text": [
            "Номер элемента ряда Фибоначчи: 3\n"
          ]
        }
      ]
    },
    {
      "cell_type": "code",
      "source": [
        "# Решение через циклы\n",
        "\n",
        "fib1 = fib2 = 1                              # В последовательности Фибоначчи сумма первых двух числе равна 1\n",
        "n = int(n) - 2\n",
        "while n > 0:\n",
        "  fib1, fib2 = fib2, fib1 + fib2\n",
        "  n -= 1\n",
        "  print(\"Значение этого элемента: \", fib2)"
      ],
      "metadata": {
        "colab": {
          "base_uri": "https://localhost:8080/"
        },
        "id": "SdgjmmkBvvtz",
        "outputId": "29c03051-2135-4f36-f1af-5736ccb073c2"
      },
      "execution_count": null,
      "outputs": [
        {
          "output_type": "stream",
          "name": "stdout",
          "text": [
            "Значение этого элемента:  2\n"
          ]
        }
      ]
    },
    {
      "cell_type": "markdown",
      "source": [
        "Рекурсивная функция - функция, определяющая свое значение через обращение к самой себе."
      ],
      "metadata": {
        "id": "tcCxxhZExv8C"
      }
    },
    {
      "cell_type": "code",
      "source": [
        "# Решение рекурсивной функции\n",
        "def fibonacci(n):\n",
        "  if n in (1, 2):\n",
        "    return 1\n",
        "    return fibonacci(n — 1) + fibonacci(n — 2)\n",
        "    print (fibonacci(10))"
      ],
      "metadata": {
        "id": "3N4Y7xa6xoCS"
      },
      "execution_count": null,
      "outputs": []
    }
  ]
}