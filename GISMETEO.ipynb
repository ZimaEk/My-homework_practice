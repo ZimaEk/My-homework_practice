{
  "nbformat": 4,
  "nbformat_minor": 0,
  "metadata": {
    "colab": {
      "provenance": []
    },
    "kernelspec": {
      "name": "python3",
      "display_name": "Python 3"
    },
    "language_info": {
      "name": "python"
    }
  },
  "cells": [
    {
      "cell_type": "markdown",
      "source": [
        "## Первое: изучение сайта"
      ],
      "metadata": {
        "id": "1KjkZHonXMQb"
      }
    },
    {
      "cell_type": "markdown",
      "source": [
        "Для парсинга нам необходимо понять, из какого раздела сайта загружать информацию. По ТЗ нас интересует погода в текущий момент времени, для этого мы ищем страницу сайта, которая отвечает за погоду сейчас. Посмотрим, из чего состоит ссылка на эту страницу:"
      ],
      "metadata": {
        "id": "4tkOT3DDXVxS"
      }
    },
    {
      "cell_type": "code",
      "source": [
        "# Ссылка иммет следующий вид: https://www.gismeteo.ru/weather-tomsk-4652/now/\n",
        "# Фрагмент ссылки, отвечающий за данный момент времени : now/\n",
        "# Остальное - постоянная ссылка на Томскую погоду"
      ],
      "metadata": {
        "id": "ZCdCl6P3XMrx"
      },
      "execution_count": null,
      "outputs": []
    },
    {
      "cell_type": "markdown",
      "source": [
        "Далее исследуем страницу сайта или его html-код. В ТЗ даны два исходных параметра: температура и скорость ветра. Найдем их теги на странице."
      ],
      "metadata": {
        "id": "IhwxehyQYTak"
      }
    },
    {
      "cell_type": "code",
      "source": [
        "#  div class=\"now-weather\"\n",
        "# <temperature-value value=\"3\" from-unit=\"c\" reactive=\"\">+3</temperature-value>\n",
        "# Этот тег отвечает за кусочек страницы, где есть указания ТЕМПЕРАТУРЫ"
      ],
      "metadata": {
        "id": "QYC_UO1SX00L"
      },
      "execution_count": null,
      "outputs": []
    },
    {
      "cell_type": "code",
      "source": [
        "#  div class=\"now-info-item\"\n",
        "# <speed-value value=\"1\" from-unit=\"ms\" reactive=\"\">1</speed-value>\n",
        "# Этот тег отвечает за кусочек страницы, где есть указания ВЕТЕР\n",
        "# Проблема: в структуру страницы 3 одинаковых ячейки для текущих показателей, по тегам ничем не отличаются\n",
        "# Решение: брать данные с первого вхождения (ветер)"
      ],
      "metadata": {
        "id": "rys9Aay9aioG"
      },
      "execution_count": null,
      "outputs": []
    },
    {
      "cell_type": "markdown",
      "source": [
        "## Второе: выбор библиотек и запуск кода"
      ],
      "metadata": {
        "id": "sYmHFTP7fn9f"
      }
    },
    {
      "cell_type": "markdown",
      "source": [
        "Нам понадобится библитека request для работы с HTTP-запросами и библиотека BeutifulSoup для работы со html-структурой страницы."
      ],
      "metadata": {
        "id": "FzPEv_SZgmW3"
      }
    },
    {
      "cell_type": "code",
      "source": [
        "import requests as req\n",
        "from bs4 import BeautifulSoup"
      ],
      "metadata": {
        "id": "KXCjzoH9f17V"
      },
      "execution_count": null,
      "outputs": []
    },
    {
      "cell_type": "code",
      "source": [
        "link = \"https://www.gismeteo.ru/weather-tomsk-4652/now/\"\n",
        "\n",
        "# Имитация пользователя\n",
        "try:\n",
        "  session = req.session()\n",
        "  session.headers = {\n",
        "              'user-agent': 'Mozilla/5.0 (Windows NT 10.0; Win64; x64) AppleWebKit/537.36 (KHTML, like Gecko) Chrome/109.0.0.0 Safari/537.36',\n",
        "              'accept-language': 'ru-RU,ru;q=0.9,en-GB;q=0.8,en;q=0.7,pl-PL;q=0.6,pl;q=0.5,en-US;q=0.4'\n",
        "      }\n",
        "\n",
        "  res = session.get(link)\n",
        "  res.raise_for_status()\n",
        "  html = res.text\n",
        "\n",
        "  soup = BeautifulSoup(html, 'html5lib')\n",
        "  #print(soup)\n",
        "\n",
        "  # Скорость ветра либо положительна, либо равна 0\n",
        "  wind = int(soup.find('div', class_='item-value').find('speed-value')['value'])\n",
        "  #print(wind)\n",
        "\n",
        "  # Если температура выше 0, то знак не пишется. При отрицательных значениях добавляется минус\n",
        "  temperature = int(soup.find('div', class_='now-weather').find('temperature-value')['value'])\n",
        "  #print(temperature)\n",
        "\n",
        "except Exception as ex:\n",
        "    print(f'Error: {ex}')\n",
        "\n",
        "print(wind, temperature)\n"
      ],
      "metadata": {
        "colab": {
          "base_uri": "https://localhost:8080/"
        },
        "id": "GoBc6HKjifkw",
        "outputId": "d7643e60-65cf-47a1-c331-36e7eed179f7"
      },
      "execution_count": null,
      "outputs": [
        {
          "output_type": "stream",
          "name": "stdout",
          "text": [
            "0 5\n"
          ]
        }
      ]
    },
    {
      "cell_type": "code",
      "source": [
        "if 0 < temperature and wind < 2:\n",
        "  print(\"Хорошая погода, можно гулять без шапки!\")\n",
        "elif wind > 2 or temperature < 0:\n",
        "  print('На улице ветрено! Лучше надеть шапку.')"
      ],
      "metadata": {
        "colab": {
          "base_uri": "https://localhost:8080/"
        },
        "id": "GDuqp00yZBCK",
        "outputId": "1dcba212-3249-4e97-d6a4-80e3bb2b936b"
      },
      "execution_count": null,
      "outputs": [
        {
          "output_type": "stream",
          "name": "stdout",
          "text": [
            "Хорошая погода, можно гулять без шапки!\n"
          ]
        }
      ]
    }
  ]
}